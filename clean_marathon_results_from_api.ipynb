{
 "cells": [
  {
   "cell_type": "markdown",
   "metadata": {},
   "source": [
    "## 2015-2019\n",
    "Rotterdam Marathon now use the site sporthive.com for the data. Using R-code the data is extracted using the api from the sporthive website"
   ]
  },
  {
   "cell_type": "code",
   "execution_count": 1,
   "metadata": {},
   "outputs": [],
   "source": [
    "import pandas as pd\n",
    "import numpy as np"
   ]
  },
  {
   "cell_type": "code",
   "execution_count": 48,
   "metadata": {},
   "outputs": [],
   "source": [
    "df_2019 = pd.read_csv(\"data/uitslagen_2019_R.csv\", encoding='cp1252')\n",
    "df_2018 = pd.read_csv(\"data/uitslagen_2018_R.csv\", encoding='cp1252')"
   ]
  },
  {
   "cell_type": "code",
   "execution_count": 49,
   "metadata": {},
   "outputs": [],
   "source": [
    "#rename agegroprank to agegroupplace\n",
    "df_2019.rename(columns={\"city\": \"City\",\"Agegrouprank\": \"AgegroupPlace\",\"bib\":\"Bib\"}, inplace=True)\n",
    "df_2019.loc[:,'Gender'] = df_2019.loc[:,'Agegroup'].str[0].replace({'V': 'F'})\n",
    "df_2019.loc[:,'Age'] = df_2019.loc[:,'Agegroup'].str[1:].replace({'SR': '18-34', '35': '35-39', '40': '40-44', '45': '45-49','50':'50-','55':'50-','60':'50-'})\n",
    "\n",
    "df_2018.rename(columns={\"city\": \"City\",\"Agegrouprank\": \"AgegroupPlace\",\"bib\":\"Bib\"}, inplace=True)\n",
    "df_2018['Gender'] = df_2018['Agegroup'].str[0].replace({'V': 'F'})\n",
    "df_2018['Age'] = df_2018['Agegroup'].str[1:].replace({'SR': '18-34', '35': '35-39', '40': '40-44', '45': '45-49','50':'50-','55':'50-','60':'50-'})"
   ]
  },
  {
   "cell_type": "markdown",
   "metadata": {},
   "source": [
    "Sporthives uses 2-letter country codes while uitslagen.nl use 3-letter FIFA codes. \n",
    "For Sporthyves, using the ISO3166 standard, the 2-letter codes are converted to 3-letter codes.\n",
    "\n",
    "List is parsed fom https://en.wikipedia.org/wiki/List_of_ISO_3166_country_codes"
   ]
  },
  {
   "cell_type": "code",
   "execution_count": 50,
   "metadata": {},
   "outputs": [],
   "source": [
    "#map 2-letter country names to 3-letter country names\n",
    "countrycodes = pd.read_csv(\"data/alpha2-3-countryiso.csv\", delimiter=\";\")\n",
    "\n",
    "s = countrycodes.set_index('Alpha-2 code')['Alpha-3 code']\n",
    "df_2019['Country'] = df_2019['countryCode'].map(s)\n",
    "df_2018['Country'] = df_2018['countryCode'].map(s)"
   ]
  },
  {
   "cell_type": "code",
   "execution_count": 51,
   "metadata": {},
   "outputs": [],
   "source": [
    "def hms_to_s(s):\n",
    "    t = 0\n",
    "    for u in s.split(':'):\n",
    "        t = 60 * t + int(u)\n",
    "    return t"
   ]
  },
  {
   "cell_type": "code",
   "execution_count": 52,
   "metadata": {},
   "outputs": [],
   "source": [
    "distance_list = (\"5KM\", \"10KM\", \"15KM\",\"20KM\", \"HALF\", \"25KM\", \"30KM\", \"35KM\", \"40KM\",\"42KM\")\n",
    "\n",
    "for i in range (1,11):\n",
    "    x = str(i)\n",
    "    df_2019['split'+x+'_time_s'] = df_2019['split'+x+'_time'].replace({'nan':np.nan, 0:np.nan, \"\":np.nan}).fillna(\"00:00\")\n",
    "    df_2019['split'+x+'_time_s'] = df_2019['split'+x+'_time_s'].astype(str).apply(hms_to_s)\n",
    "    df_2019['distance_'+distance_list[i-1]+'_time'] = df_2019['split'+x+'_time_s']\n",
    "    #2018\n",
    "    df_2018['split'+x+'_time_s'] = df_2018['split'+x+'_time'].replace({'nan':np.nan, 0:np.nan, \"\":np.nan}).fillna(\"00:00\")\n",
    "    df_2018['split'+x+'_time_s'] = df_2018['split'+x+'_time_s'].astype(str).apply(hms_to_s)\n",
    "    df_2018['distance_'+distance_list[i-1]+'_time'] = df_2018['split'+x+'_time_s']\n",
    "\n",
    "df_2019[\"Guntime_s\"] = df_2019[\"Guntime\"].astype(str).apply(hms_to_s)\n",
    "df_2019[\"Chiptime_s\"] = df_2019[\"Chiptime\"].astype(str).apply(hms_to_s)\n",
    "#2018\n",
    "df_2018[\"Guntime_s\"] = df_2018[\"Guntime\"].astype(str).apply(hms_to_s)\n",
    "df_2018[\"Chiptime_s\"] = df_2018[\"Chiptime\"].astype(str).apply(hms_to_s)\n",
    "\n",
    "df_2019.rename(columns={\"distance_HALF_time\":\"HALF\"},inplace=True)\n",
    "df_2018.rename(columns={\"distance_HALF_time\":\"HALF\"},inplace=True)"
   ]
  },
  {
   "cell_type": "code",
   "execution_count": 53,
   "metadata": {},
   "outputs": [],
   "source": [
    "split_list = (\"5KM\", \"10KM\", \"15KM\",\"20KM\",\"25KM\", \"30KM\", \"35KM\", \"40KM\",\"42KM\")\n",
    "for i in range(0,9):\n",
    "    if i == 0:\n",
    "        df_2019['split_'+split_list[i]+'_time'] = df_2019['distance_'+split_list[i]+'_time']\n",
    "        df_2018['split_'+split_list[i]+'_time'] = df_2018['distance_'+split_list[i]+'_time']\n",
    "    else:\n",
    "        df_2019['split_'+split_list[i]+'_time'] = df_2019['distance_'+split_list[i]+'_time'] - df_2019['distance_'+split_list[i-1]+'_time']\n",
    "        df_2018['split_'+split_list[i]+'_time'] = df_2018['distance_'+split_list[i]+'_time'] - df_2018['distance_'+split_list[i-1]+'_time']"
   ]
  },
  {
   "cell_type": "code",
   "execution_count": 54,
   "metadata": {},
   "outputs": [],
   "source": [
    "df_2019['Year'] = 2019\n",
    "df_2018['Year'] = 2018\n",
    "df_2019['Distance']= \"NN Marathon Rotterdam 2019\"\n",
    "df_2018['Distance']= \"NN Marathon Rotterdam 2018\"\n",
    "#remove columns not needed or double\n",
    "df_2019 = df_2019[[\"Place\",\"Name\",\"City\",\"Country\",\"AgegroupPlace\",\"Agegroup\",\"Guntime_s\",\"Chiptime_s\",\"HALF\", \n",
    "                         \"Bib\",\"Gender\",\"Age\",\"Distance\",\"Year\",'split_5KM_time', 'distance_5KM_time', 'split_10KM_time', 'distance_10KM_time', \n",
    "                         'split_15KM_time', 'distance_15KM_time', 'split_20KM_time', 'distance_20KM_time', 'split_25KM_time', \n",
    "                         'distance_25KM_time', 'split_30KM_time', 'distance_30KM_time', 'split_35KM_time', 'distance_35KM_time',\n",
    "                         'split_40KM_time', 'distance_40KM_time',\"split_42KM_time\",\"distance_42KM_time\"]]\n",
    "\n",
    "df_2018 = df_2018[[\"Place\",\"Name\",\"City\",\"Country\",\"AgegroupPlace\",\"Agegroup\",\"Guntime_s\",\"Chiptime_s\",\"HALF\", \n",
    "                         \"Bib\",\"Gender\",\"Age\",\"Distance\",\"Year\",'split_5KM_time', 'distance_5KM_time', 'split_10KM_time', 'distance_10KM_time', \n",
    "                         'split_15KM_time', 'distance_15KM_time', 'split_20KM_time', 'distance_20KM_time', 'split_25KM_time', \n",
    "                         'distance_25KM_time', 'split_30KM_time', 'distance_30KM_time', 'split_35KM_time', 'distance_35KM_time',\n",
    "                         'split_40KM_time', 'distance_40KM_time',\"split_42KM_time\",\"distance_42KM_time\"]]\n",
    "\n",
    "df_2019.to_csv(\"data/uitslagen2019.csv\", index = None, header=True, encoding='UTF-8')\n",
    "df_2018.to_csv(\"data/uitslagen2018.csv\", index = None, header=True, encoding='UTF-8')"
   ]
  },
  {
   "cell_type": "code",
   "execution_count": null,
   "metadata": {},
   "outputs": [],
   "source": [
    "## make the data copied from sporthive.com\n",
    "# 2019 6509035005995656960/races/450996\n",
    "# 2018 6386505967023513344/races/419161\n",
    "\n",
    "import requests\n",
    "from time import sleep\n",
    "import csv\n",
    "\n",
    "req = requests.session()\n",
    "\n",
    "ongoing = True\n",
    "url = 'https://eventresults-api.sporthive.com/api/events/6386505967023513344/races/419161/classifications/search?count=50&offset={offset}'\n",
    "offset = 0\n",
    "data = []\n",
    "while ongoing:\n",
    "    quinquagintuplet = req.get(url.format(offset=offset)).json()\n",
    "    data.extend(quinquagintuplet['fullClassifications'])\n",
    "    newbies = len(quinquagintuplet['fullClassifications'])\n",
    "    if newbies != 50:\n",
    "        ongoing == False\n",
    "        break\n",
    "    offset += newbies\n",
    "    sleep(0.5)\n",
    "    print(len(data))\n",
    "\n",
    "neodata = [{k: d['classification'][k] for k in d['classification'] if k not in ('splits',)} for d in data]\n",
    "\n",
    "with open('2019.csv','w', newline='') as fh:\n",
    "    w = csv.DictWriter(fh, fieldnames=list(neodata[1].keys()), extrasaction='ignore')\n",
    "    w.writeheader()\n",
    "    w.writerows(neodata)"
   ]
  }
 ],
 "metadata": {
  "kernelspec": {
   "display_name": "Python 3",
   "language": "python",
   "name": "python3"
  },
  "language_info": {
   "codemirror_mode": {
    "name": "ipython",
    "version": 3
   },
   "file_extension": ".py",
   "mimetype": "text/x-python",
   "name": "python",
   "nbconvert_exporter": "python",
   "pygments_lexer": "ipython3",
   "version": "3.7.4"
  }
 },
 "nbformat": 4,
 "nbformat_minor": 2
}
